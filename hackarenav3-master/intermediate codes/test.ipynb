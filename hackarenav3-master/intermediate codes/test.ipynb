{
 "cells": [
  {
   "cell_type": "code",
   "execution_count": null,
   "metadata": {},
   "outputs": [],
   "source": [
    "C:\\Users\\Admin\\Downloads\\hackarenav3-master (1)\\hackarenav3-master\\app.py"
   ]
  },
  {
   "cell_type": "code",
   "execution_count": null,
   "metadata": {},
   "outputs": [],
   "source": [
    "import re\n",
    "import json\n",
    "\n",
    "def parse_medical_text_to_json(text):\n",
    "    # Define the keys and corresponding regex patterns\n",
    "    patterns = {\n",
    "        \"disease name\": r\"\\*\\*Disease Name:\\*\\*\\s*(.+?)\\n\",\n",
    "        \"clinical findings\": r\"\\*\\*1\\. Clinical Findings:\\*\\*\\n([\\s\\S]*?)\\n\\n\",\n",
    "        \"impression\": r\"\\*\\*2\\. Impression:\\*\\*\\n([\\s\\S]*?)\\n\\n\",\n",
    "        \"recommendations\": r\"\\*\\*3\\. Recommendations:\\*\\*\\n([\\s\\S]*?)\\n\\n\",\n",
    "        \"summary\": r\"\\*\\*4\\. Summary:\\*\\*\\n([\\s\\S]*?)\\nTERMINATE\"\n",
    "    }\n",
    "    \n",
    "    # Parse the text using regex patterns\n",
    "    parsed_data = {}\n",
    "    for key, pattern in patterns.items():\n",
    "        match = re.search(pattern, text, re.IGNORECASE)\n",
    "        if match:\n",
    "            parsed_data[key] = match.group(1).strip()\n",
    "    \n",
    "    return json.dumps(parsed_data, indent=4)\n",
    "\n",
    "# Input text\n",
    "medical_text = \"\"\"\n",
    "**Disease Name:** Suspected Small Vessel Ischemic Disease (SVID)\n",
    "\n",
    "**1. Clinical Findings:**\n",
    "\n",
    "* MRI of the brain reveals a small, focal area of increased signal intensity in the right temporal lobe white matter, best visualized on axial T2-weighted images.\n",
    "* The abnormality is described as relatively subtle and is not associated with a mass lesion.\n",
    "* No other significant abnormalities are noted in the brain's gray matter, cerebellum, brainstem, ventricles, or other lobes.\n",
    "\n",
    "**2. Impression:**\n",
    "\n",
    "The most likely diagnosis is small vessel ischemic disease (SVID) affecting the right temporal lobe white matter.  Demyelinating disease is considered a less likely differential diagnosis due to the lack of additional lesions and the absence of FLAIR imaging.  Further clinical correlation and potentially additional imaging studies are recommended to confirm the diagnosis and exclude alternative etiologies.\n",
    "\n",
    "**3. Recommendations:**\n",
    "\n",
    "* Correlate MRI findings with patient's clinical presentation (e.g., neurological symptoms).\n",
    "* Consider additional MRI sequences, such as FLAIR, for improved assessment of demyelination.\n",
    "* Clinical follow-up is recommended to monitor for symptom progression or resolution.\n",
    "\n",
    "**4. Summary:**\n",
    "\n",
    "MRI demonstrates a subtle, focal area of increased T2 signal intensity within the right temporal lobe white matter, suggestive of small vessel ischemic disease.  Further clinical correlation and potentially additional imaging are necessary to definitively characterize the lesion and exclude alternative diagnoses.  The absence of other significant intracranial pathology is noted.\n",
    "\n",
    "TERMINATE\n",
    "\"\"\"\n",
    "\n",
    "# Call the function and print the result\n",
    "result = parse_medical_text_to_json(medical_text)\n",
    "print(result)\n"
   ]
  },
  {
   "cell_type": "code",
   "execution_count": null,
   "metadata": {},
   "outputs": [],
   "source": []
  }
 ],
 "metadata": {
  "kernelspec": {
   "display_name": "base",
   "language": "python",
   "name": "python3"
  },
  "language_info": {
   "name": "python",
   "version": "3.11.7"
  }
 },
 "nbformat": 4,
 "nbformat_minor": 2
}
